{
 "cells": [
  {
   "cell_type": "code",
   "execution_count": 18,
   "metadata": {
    "execution": {
     "iopub.execute_input": "2021-05-21T22:09:53.653069Z",
     "iopub.status.busy": "2021-05-21T22:09:53.652826Z",
     "iopub.status.idle": "2021-05-21T22:09:54.014972Z",
     "shell.execute_reply": "2021-05-21T22:09:54.014404Z",
     "shell.execute_reply.started": "2021-05-21T22:09:53.653043Z"
    }
   },
   "outputs": [
    {
     "name": "stdout",
     "output_type": "stream",
     "text": [
      "The autoreload extension is already loaded. To reload it, use:\n",
      "  %reload_ext autoreload\n",
      "/home/matthew/git/cadc_testing/uncertainty_eval\n"
     ]
    }
   ],
   "source": [
    "%load_ext autoreload\n",
    "%autoreload 2\n",
    "\n",
    "import os, copy\n",
    "from pprint import pprint\n",
    "\n",
    "import pickle\n",
    "import numpy as np\n",
    "import matplotlib.pyplot as plt\n",
    "from matplotlib.patches import Rectangle\n",
    "from matplotlib.transforms import Affine2D\n",
    "\n",
    "# New implementation\n",
    "from detection_eval.detection_eval import DetectionEval\n",
    "from detection_eval.filter import build_kitti_filters, ClassFilter, RangeFilter, CombinedFilter\n",
    "from detection_eval.box_list import BoxList\n",
    "\n",
    "print(os.getcwd())"
   ]
  },
  {
   "cell_type": "code",
   "execution_count": 19,
   "metadata": {
    "execution": {
     "iopub.execute_input": "2021-05-21T22:15:36.391554Z",
     "iopub.status.busy": "2021-05-21T22:15:36.390765Z",
     "iopub.status.idle": "2021-05-21T22:15:36.414736Z",
     "shell.execute_reply": "2021-05-21T22:15:36.413994Z",
     "shell.execute_reply.started": "2021-05-21T22:15:36.391467Z"
    },
    "tags": []
   },
   "outputs": [],
   "source": [
    "dataset_path = '/home/matthew/git/cadc_testing/WISEOpenLidarPerceptron/data/kitti'\n",
    "\n",
    "# Clustering\n",
    "# logdir = '.'\n",
    "logdir = '/home/matthew/git/cadc_testing/pcdet_output/output_pkls'\n",
    "preds_path = os.path.join(logdir, 'ensemble_a.pkl')\n",
    "# preds_path = os.path.join(logdir, 'openpcdet_80_result.pkl')\n",
    "# preds_path = os.path.join(logdir, 'mimo_a_training.pkl')\n",
    "\n",
    "# gts_path = os.path.join(logdir, 'gts.pkl')\n",
    "gts_path = os.path.join(logdir, 'kitti_infos_val.pkl')\n",
    "# gts_path = os.path.join(logdir, 'kitti_infos_train.pkl')\n"
   ]
  },
  {
   "cell_type": "code",
   "execution_count": 20,
   "metadata": {
    "execution": {
     "iopub.execute_input": "2021-05-21T22:15:36.751687Z",
     "iopub.status.busy": "2021-05-21T22:15:36.750877Z",
     "iopub.status.idle": "2021-05-21T22:15:36.775053Z",
     "shell.execute_reply": "2021-05-21T22:15:36.774398Z",
     "shell.execute_reply.started": "2021-05-21T22:15:36.751595Z"
    },
    "tags": []
   },
   "outputs": [],
   "source": [
    "def load_dicts():\n",
    "    # Load gt and prediction data dict\n",
    "    with open(gts_path, 'rb') as f:\n",
    "        gt_dicts = pickle.load(f)\n",
    "    with open(preds_path, 'rb') as f:\n",
    "        pred_dicts = pickle.load(f)\n",
    "    return gt_dicts, pred_dicts"
   ]
  },
  {
   "cell_type": "code",
   "execution_count": 21,
   "metadata": {
    "execution": {
     "iopub.execute_input": "2021-05-21T22:15:38.065143Z",
     "iopub.status.busy": "2021-05-21T22:15:38.064918Z",
     "iopub.status.idle": "2021-05-21T22:15:38.589480Z",
     "shell.execute_reply": "2021-05-21T22:15:38.588942Z",
     "shell.execute_reply.started": "2021-05-21T22:15:38.065120Z"
    },
    "tags": []
   },
   "outputs": [
    {
     "name": "stdout",
     "output_type": "stream",
     "text": [
      "0\n",
      "Example GT dict:\n",
      "dict_keys(['point_cloud', 'image', 'calib', 'annos'])\n",
      "Example pred dict:\n",
      "dict_keys(['name', 'truncated', 'occluded', 'alpha', 'bbox', 'dimensions', 'location', 'rotation_y', 'score', 'score_all', 'boxes_lidar', 'pred_labels', 'target_labels', 'pred_vars', 'pred_head_ids', 'frame_id'])\n"
     ]
    }
   ],
   "source": [
    "# Load example GT and prediction\n",
    "idx = np.random.randint(3700)\n",
    "# idx = 2322, 291\n",
    "idx = 0\n",
    "print(idx)\n",
    "gt_dicts, pred_dicts = load_dicts()\n",
    "\n",
    "print('Example GT dict:')\n",
    "print(gt_dicts[idx].keys())\n",
    "print('Example pred dict:')\n",
    "print(pred_dicts[idx][0].keys())"
   ]
  },
  {
   "cell_type": "code",
   "execution_count": 22,
   "metadata": {
    "execution": {
     "iopub.execute_input": "2021-05-21T22:15:48.176333Z",
     "iopub.status.busy": "2021-05-21T22:15:48.175567Z",
     "iopub.status.idle": "2021-05-21T22:16:21.669427Z",
     "shell.execute_reply": "2021-05-21T22:16:21.668839Z",
     "shell.execute_reply.started": "2021-05-21T22:15:48.176245Z"
    }
   },
   "outputs": [
    {
     "name": "stdout",
     "output_type": "stream",
     "text": [
      "Before clustering\n",
      "Number of frames 3769\n",
      "Number of pred dicts per frame 4\n",
      "EMPTY FRAME DETECTED\n",
      "EMPTY FRAME DETECTED\n",
      "EMPTY FRAME DETECTED\n",
      "After clustering\n",
      "Number of frames 3769\n",
      "Is the output per frame now a single dict? True\n"
     ]
    }
   ],
   "source": [
    "# Cluster pred_dicts\n",
    "from cluster import cluster_preds\n",
    "\n",
    "MIN_CLUSTER_SIZE = 3\n",
    "\n",
    "print(\"Before clustering\")\n",
    "print(\"Number of frames\", len(pred_dicts))\n",
    "print(\"Number of pred dicts per frame\", len(pred_dicts[0]))\n",
    "\n",
    "pred_dicts = cluster_preds(pred_dicts, MIN_CLUSTER_SIZE)\n",
    "\n",
    "print(\"After clustering\")\n",
    "print(\"Number of frames\", len(pred_dicts))\n",
    "print(\"Is the output per frame now a single dict?\", isinstance(pred_dicts[0], dict))"
   ]
  },
  {
   "cell_type": "code",
   "execution_count": 23,
   "metadata": {},
   "outputs": [
    {
     "name": "stdout",
     "output_type": "stream",
     "text": [
      "{'point_cloud': {'num_features': 4, 'lidar_idx': '000004'}, 'image': {'image_idx': '000004', 'image_shape': array([ 375, 1242], dtype=int32)}, 'calib': {'P2': array([[721.53771973,   0.        , 609.55932617,  44.85728073],\n",
      "       [  0.        , 721.53771973, 172.85400391,   0.21637911],\n",
      "       [  0.        ,   0.        ,   1.        ,   0.00274588],\n",
      "       [  0.        ,   0.        ,   0.        ,   1.        ]]), 'R0_rect': array([[ 0.9999239 ,  0.00983776, -0.00744505,  0.        ],\n",
      "       [-0.0098698 ,  0.9999421 , -0.00427846,  0.        ],\n",
      "       [ 0.00740253,  0.00435161,  0.9999631 ,  0.        ],\n",
      "       [ 0.        ,  0.        ,  0.        ,  1.        ]],\n",
      "      dtype=float32), 'Tr_velo_to_cam': array([[ 0.00753374, -0.99997139, -0.0006166 , -0.00406977],\n",
      "       [ 0.01480249,  0.00072807, -0.99989021, -0.07631618],\n",
      "       [ 0.99986207,  0.00752379,  0.01480755, -0.27178061],\n",
      "       [ 0.        ,  0.        ,  0.        ,  1.        ]])}, 'annos': {'name': array(['Car', 'Car', 'DontCare', 'DontCare', 'DontCare', 'DontCare',\n",
      "       'DontCare'], dtype='<U8'), 'truncated': array([ 0.,  0., -1., -1., -1., -1., -1.]), 'occluded': array([ 0.,  0., -1., -1., -1., -1., -1.]), 'alpha': array([  1.96,   1.88, -10.  , -10.  , -10.  , -10.  , -10.  ]), 'bbox': array([[ 280.38,  185.1 ,  344.9 ,  215.59],\n",
      "       [ 365.14,  184.54,  406.11,  205.2 ],\n",
      "       [ 402.27,  166.69,  477.31,  197.98],\n",
      "       [ 518.53,  177.31,  531.51,  187.17],\n",
      "       [1207.5 ,  233.35, 1240.  ,  333.39],\n",
      "       [ 535.06,  177.65,  545.26,  185.82],\n",
      "       [ 558.03,  177.88,  567.5 ,  184.65]], dtype=float32), 'dimensions': array([[ 4.01,  1.49,  1.76],\n",
      "       [ 3.41,  1.38,  1.8 ],\n",
      "       [-1.  , -1.  , -1.  ],\n",
      "       [-1.  , -1.  , -1.  ],\n",
      "       [-1.  , -1.  , -1.  ],\n",
      "       [-1.  , -1.  , -1.  ],\n",
      "       [-1.  , -1.  , -1.  ]]), 'location': array([[  -15.71,     2.16,    38.26],\n",
      "       [  -15.89,     2.23,    51.17],\n",
      "       [-1000.  , -1000.  , -1000.  ],\n",
      "       [-1000.  , -1000.  , -1000.  ],\n",
      "       [-1000.  , -1000.  , -1000.  ],\n",
      "       [-1000.  , -1000.  , -1000.  ],\n",
      "       [-1000.  , -1000.  , -1000.  ]], dtype=float32), 'rotation_y': array([  1.57,   1.58, -10.  , -10.  , -10.  , -10.  , -10.  ]), 'score': array([-1., -1., -1., -1., -1., -1., -1.]), 'difficulty': array([ 1, -1,  1, -1,  0, -1, -1], dtype=int32), 'index': array([ 0,  1, -1, -1, -1, -1, -1], dtype=int32), 'gt_boxes_lidar': array([[38.54969406, 15.73473358, -0.92122829,  4.01      ,  1.76      ,\n",
      "         1.49      , -3.14079633],\n",
      "       [51.45967865, 15.91706848, -0.90939277,  3.41      ,  1.8       ,\n",
      "         1.38      , -3.15079633]]), 'num_points_in_gt': array([78, 26, -1, -1, -1, -1, -1], dtype=int32)}}\n",
      "{'frame_id': '000004', 'seq_id': None, 'name': array(['Car', 'Car', 'Cyclist', 'Pedestrian', 'Pedestrian'], dtype='<U10'), 'pred_labels': array([1, 1, 3, 2, 2]), 'score': array([0.9598701 , 0.84913564, 0.3143895 , 0.13766378, 0.1650908 ],\n",
      "      dtype=float32), 'score_all': array([[0.9598702 , 0.00000001, 0.00000001, 0.04012989],\n",
      "       [0.84913564, 0.00000002, 0.00000002, 0.1508643 ],\n",
      "       [0.00000009, 0.00000009, 0.31438953, 0.6856103 ],\n",
      "       [0.00000004, 0.1376638 , 0.00000004, 0.8623362 ],\n",
      "       [0.00000004, 0.16509078, 0.00000004, 0.83490914]], dtype=float32), 'shannon_entropy': array([0.24288781, 0.61199988, 0.89817982, 0.57808976, 0.64635225]), 'aleatoric_entropy': array([0.24154038, 0.60072525, 0.87758666, 0.57431426, 0.64096468]), 'boxes_lidar': array([[ 38.412663  ,  15.710298  ,  -1.6756842 ,   3.8656616 ,\n",
      "          1.6106108 ,   1.4880906 ,   3.1170697 ],\n",
      "       [ 51.512764  ,  15.935715  ,  -1.5588799 ,   3.8943498 ,\n",
      "          1.6339626 ,   1.5304002 ,   3.0882516 ],\n",
      "       [ 20.407288  , -16.573338  ,  -1.5284069 ,   1.6946619 ,\n",
      "          0.591936  ,   1.6458946 ,   4.6766005 ],\n",
      "       [ 30.163855  , -13.071067  ,  -1.4752827 ,   0.682455  ,\n",
      "          0.63800126,   1.8944188 ,   6.36187   ],\n",
      "       [ 58.7718    ,  19.622616  ,  -1.4161001 ,   0.77741414,\n",
      "          0.5582224 ,   1.8665018 ,   4.766841  ]], dtype=float32), 'pred_vars': array([[0.01415309, 0.00390307, 0.00467304, 0.0385712 , 0.00834119,\n",
      "        0.00744432, 0.00487401],\n",
      "       [0.02974192, 0.00719235, 0.00765648, 0.07780096, 0.01210114,\n",
      "        0.01050974, 0.00994055],\n",
      "       [0.00393287, 0.01467442, 0.0111441 , 0.01368139, 0.0137501 ,\n",
      "        0.00801773, 0.11120176],\n",
      "       [0.00600819, 0.00383893, 0.02790904, 0.06483588, 0.00883034,\n",
      "        0.01518796, 0.5561815 ],\n",
      "       [0.00353623, 0.00551413, 0.01827964, 0.05732511, 0.01441352,\n",
      "        0.01286012, 0.5180745 ]], dtype=float32), 'cluster_size': array([4, 4, 4, 3, 4])}\n"
     ]
    }
   ],
   "source": [
    "print(gt_dicts[2])\n",
    "print(pred_dicts[2])"
   ]
  },
  {
   "cell_type": "code",
   "execution_count": null,
   "metadata": {},
   "outputs": [],
   "source": [
    "for i in range(len(pred_dicts)):\n",
    "    num_objs = len(pred_dicts[i]['name'])\n",
    "    frame_id = pred_dicts[i]['frame_id']\n",
    "    print(frame_id)\n",
    "    print(gt_dicts[i]['image']['image_idx'])\n",
    "#     if num_objs == 0:\n",
    "#         print(num_objs)"
   ]
  },
  {
   "cell_type": "code",
   "execution_count": 29,
   "metadata": {},
   "outputs": [
    {
     "name": "stdout",
     "output_type": "stream",
     "text": [
      "000001\n"
     ]
    }
   ],
   "source": [
    "print(pred_dicts[0]['frame_id'])"
   ]
  },
  {
   "cell_type": "code",
   "execution_count": 24,
   "metadata": {
    "execution": {
     "iopub.execute_input": "2021-05-21T22:19:24.328167Z",
     "iopub.status.busy": "2021-05-21T22:19:24.327920Z",
     "iopub.status.idle": "2021-05-21T22:19:24.354811Z",
     "shell.execute_reply": "2021-05-21T22:19:24.354333Z",
     "shell.execute_reply.started": "2021-05-21T22:19:24.328140Z"
    },
    "tags": []
   },
   "outputs": [],
   "source": [
    "def pcdet_get_labels(data_dict):\n",
    "    if isinstance(data_dict, list):\n",
    "        data_dict = data_dict[0]\n",
    "    for label_key in ['labels', 'gt_labels', 'pred_labels']:\n",
    "        if label_key in data_dict:\n",
    "            return data_dict[label_key]\n",
    "    if 'annos' in data_dict:\n",
    "        data_dict = data_dict['annos']\n",
    "    if 'name' in data_dict:\n",
    "        classes = dict(\n",
    "            Car=1, Pedestrian=2, Cyclist=3,\n",
    "            Truck=-1, Misc=-1, Van=-1, Tram=-1, Person_sitting=-1,\n",
    "            DontCare=-1\n",
    "        )\n",
    "        labels = []\n",
    "        for name in data_dict['name']:\n",
    "            if name == 'DontCare':\n",
    "                continue\n",
    "            labels.append(classes[name])\n",
    "        return labels\n",
    "    raise ValueError()\n",
    "\n",
    "def pcdet_get_scores(data_dict):\n",
    "    if isinstance(data_dict, list):\n",
    "        data_dict = data_dict[0]\n",
    "    if 'score' in data_dict:\n",
    "        return data_dict['score']\n",
    "\n",
    "def pcdet_get_boxes(data_dict, gt_mode=True):\n",
    "    if isinstance(data_dict, list):\n",
    "        data_dict = data_dict[0]\n",
    "    if 'annos' in data_dict:\n",
    "        data_dict = data_dict['annos']\n",
    "    for box_key in ['gt_boxes', 'gt_boxes_lidar', 'boxes_lidar', 'box3d_lidar']:\n",
    "        if box_key in data_dict:\n",
    "            if gt_mode:\n",
    "                return data_dict[box_key]\n",
    "            tmp = copy.deepcopy(data_dict[box_key])\n",
    "            for i in range(len(tmp)):\n",
    "                tmp[i][2] += tmp[i][5]/2.0\n",
    "            return tmp\n",
    "    return ValueError()\n",
    "\n",
    "def gt_processor(data_dict):\n",
    "    return (\n",
    "        pcdet_get_labels(data_dict),\n",
    "        pcdet_get_boxes(data_dict)\n",
    "    )\n",
    "\n",
    "def pred_processor(data_dict):\n",
    "    return (\n",
    "        pcdet_get_labels(data_dict),\n",
    "        pcdet_get_scores(data_dict),\n",
    "        pcdet_get_boxes(data_dict, gt_mode=False)\n",
    "    )\n",
    "\n",
    "def get_dist(data_dict):\n",
    "    boxes = get_boxes(data_dict)\n",
    "    coords = boxes[:,:2]\n",
    "    dist = np.linalg.norm(coords, axis=1)\n",
    "    return dist"
   ]
  },
  {
   "cell_type": "markdown",
   "metadata": {},
   "source": [
    "# Settings for both tests"
   ]
  },
  {
   "cell_type": "code",
   "execution_count": 27,
   "metadata": {
    "execution": {
     "iopub.execute_input": "2021-05-21T22:19:58.576626Z",
     "iopub.status.busy": "2021-05-21T22:19:58.575863Z",
     "iopub.status.idle": "2021-05-21T22:19:58.615647Z",
     "shell.execute_reply": "2021-05-21T22:19:58.615039Z",
     "shell.execute_reply.started": "2021-05-21T22:19:58.576536Z"
    },
    "tags": []
   },
   "outputs": [],
   "source": [
    "################################################################################\n",
    "# \n",
    "# Example: evaluating one sample\n",
    "#\n",
    "################################################################################\n",
    "\n",
    "# Threshold (list or dict) maps a label to a matching threshold\n",
    "# thresholds[label] = threshold\n",
    "thresholds = {\n",
    "    -1: 1,\n",
    "    0: 1,    # Just to not output error\n",
    "    1: 0.7,    # Car\n",
    "    2: 0.5,    # Pedestrian\n",
    "    3: 0.5     # Cyclist\n",
    "}\n",
    "\n",
    "# Examples for some common filters\n",
    "# ClassFilter: filter by class, needs to specify class label\n",
    "# RangeFilter: filter numerical value by a range\n",
    "# CombinedFilter: combine multiple filters together with an `AND` clause\n",
    "\n",
    "car_filter = ClassFilter(name='Car', label=1,\n",
    "                         gt_processor=gt_processor, pred_processor=pred_processor)\n",
    "\n",
    "from detection_eval.filter import build_kitti_filters\n",
    "# kitti_filter_list = build_kitti_filters(logdir + '/kitti_infos_val.pkl')\n",
    "kitti_filter_list = build_kitti_filters(logdir + '/kitti_infos_train.pkl')\n",
    "filter_list = [\n",
    "    kitti_filter_list[1]#, # Car moderate\n",
    "#     kitti_filter_list[4], # Ped moderate\n",
    "#     kitti_filter_list[7], # Cyc moderate\n",
    "]\n",
    "\n",
    "car_filter = kitti_filter_list[1]\n",
    "\n",
    "def attach_data(sample_idx, gt_dict, pred_dict, gt_list, pred_list):\n",
    "    for i in range(len(gt_list)):\n",
    "        gt_list.data[i] = dict(gt_boxes=pcdet_get_boxes(gt_dict)[i])\n",
    "    for i in range(len(pred_list)):\n",
    "        pred_list.data[i] = dict(\n",
    "#             score_all=pred_dict['score_all'][i],\n",
    "            boxes_lidar=pred_dict['boxes_lidar'][i]#,\n",
    "#             pred_vars=pred_dict['pred_vars'][i]\n",
    "        )\n"
   ]
  },
  {
   "cell_type": "markdown",
   "metadata": {},
   "source": [
    "# Evaluate individual frames to check for weird matches"
   ]
  },
  {
   "cell_type": "code",
   "execution_count": 30,
   "metadata": {
    "execution": {
     "iopub.execute_input": "2021-05-21T22:19:59.642202Z",
     "iopub.status.busy": "2021-05-21T22:19:59.641439Z",
     "iopub.status.idle": "2021-05-21T22:20:03.563667Z",
     "shell.execute_reply": "2021-05-21T22:20:03.563081Z",
     "shell.execute_reply.started": "2021-05-21T22:19:59.642116Z"
    },
    "tags": []
   },
   "outputs": [
    {
     "ename": "KeyError",
     "evalue": "'000001'",
     "output_type": "error",
     "traceback": [
      "\u001b[0;31m---------------------------------------------------------------------------\u001b[0m",
      "\u001b[0;31mKeyError\u001b[0m                                  Traceback (most recent call last)",
      "\u001b[0;32m<ipython-input-30-2c7285bef1af>\u001b[0m in \u001b[0;36m<module>\u001b[0;34m\u001b[0m\n\u001b[1;32m     11\u001b[0m         \u001b[0mgt_processor\u001b[0m\u001b[0;34m=\u001b[0m\u001b[0mgt_processor\u001b[0m\u001b[0;34m,\u001b[0m\u001b[0;34m\u001b[0m\u001b[0;34m\u001b[0m\u001b[0m\n\u001b[1;32m     12\u001b[0m         \u001b[0mpred_processor\u001b[0m\u001b[0;34m=\u001b[0m\u001b[0mpred_processor\u001b[0m\u001b[0;34m,\u001b[0m\u001b[0;34m\u001b[0m\u001b[0;34m\u001b[0m\u001b[0m\n\u001b[0;32m---> 13\u001b[0;31m         \u001b[0mcallback\u001b[0m\u001b[0;34m=\u001b[0m\u001b[0mattach_data\u001b[0m\u001b[0;34m\u001b[0m\u001b[0;34m\u001b[0m\u001b[0m\n\u001b[0m\u001b[1;32m     14\u001b[0m     )\n\u001b[1;32m     15\u001b[0m \u001b[0;34m\u001b[0m\u001b[0m\n",
      "\u001b[0;32m~/git/cadc_testing/uncertainty_eval/detection_eval/detection_eval.py\u001b[0m in \u001b[0;36mevaluate_all_samples\u001b[0;34m(cls, gts, preds, thresholds, criterion, epsilon, filta, ctables, gt_processor, pred_processor, pbar, callback)\u001b[0m\n\u001b[1;32m    322\u001b[0m                 \u001b[0mctable\u001b[0m\u001b[0;34m=\u001b[0m\u001b[0mctables\u001b[0m\u001b[0;34m[\u001b[0m\u001b[0msample_idx\u001b[0m\u001b[0;34m]\u001b[0m\u001b[0;34m,\u001b[0m\u001b[0;34m\u001b[0m\u001b[0;34m\u001b[0m\u001b[0m\n\u001b[1;32m    323\u001b[0m                 \u001b[0mgt_processor\u001b[0m\u001b[0;34m=\u001b[0m\u001b[0mgt_processor\u001b[0m\u001b[0;34m,\u001b[0m\u001b[0;34m\u001b[0m\u001b[0;34m\u001b[0m\u001b[0m\n\u001b[0;32m--> 324\u001b[0;31m                 \u001b[0mpred_processor\u001b[0m\u001b[0;34m=\u001b[0m\u001b[0mpred_processor\u001b[0m\u001b[0;34m\u001b[0m\u001b[0;34m\u001b[0m\u001b[0m\n\u001b[0m\u001b[1;32m    325\u001b[0m             )\n\u001b[1;32m    326\u001b[0m \u001b[0;34m\u001b[0m\u001b[0m\n",
      "\u001b[0;32m~/git/cadc_testing/uncertainty_eval/detection_eval/detection_eval.py\u001b[0m in \u001b[0;36mevaluate_one_sample\u001b[0;34m(cls, gt, pred, thresholds, criterion, epsilon, filta, ctable, gt_processor, pred_processor)\u001b[0m\n\u001b[1;32m    161\u001b[0m         \u001b[0;32massert\u001b[0m\u001b[0;34m(\u001b[0m\u001b[0mlen\u001b[0m\u001b[0;34m(\u001b[0m\u001b[0mpred_scores\u001b[0m\u001b[0;34m)\u001b[0m \u001b[0;34m==\u001b[0m \u001b[0mlen\u001b[0m\u001b[0;34m(\u001b[0m\u001b[0mpred_labels\u001b[0m\u001b[0;34m)\u001b[0m \u001b[0;34m==\u001b[0m \u001b[0mlen\u001b[0m\u001b[0;34m(\u001b[0m\u001b[0mpred_boxes\u001b[0m\u001b[0;34m)\u001b[0m\u001b[0;34m)\u001b[0m\u001b[0;34m\u001b[0m\u001b[0;34m\u001b[0m\u001b[0m\n\u001b[1;32m    162\u001b[0m \u001b[0;34m\u001b[0m\u001b[0m\n\u001b[0;32m--> 163\u001b[0;31m         \u001b[0mfiltered_masks\u001b[0m \u001b[0;34m=\u001b[0m \u001b[0mfilta\u001b[0m\u001b[0;34m(\u001b[0m\u001b[0mgt\u001b[0m\u001b[0;34m,\u001b[0m \u001b[0mpred\u001b[0m\u001b[0;34m)\u001b[0m\u001b[0;34m\u001b[0m\u001b[0;34m\u001b[0m\u001b[0m\n\u001b[0m\u001b[1;32m    164\u001b[0m         \u001b[0;32mif\u001b[0m \u001b[0mlen\u001b[0m\u001b[0;34m(\u001b[0m\u001b[0mfiltered_masks\u001b[0m\u001b[0;34m)\u001b[0m \u001b[0;34m==\u001b[0m \u001b[0;36m2\u001b[0m\u001b[0;34m:\u001b[0m\u001b[0;34m\u001b[0m\u001b[0;34m\u001b[0m\u001b[0m\n\u001b[1;32m    165\u001b[0m             \u001b[0mignored_gt\u001b[0m \u001b[0;34m=\u001b[0m \u001b[0;32mNone\u001b[0m\u001b[0;34m\u001b[0m\u001b[0;34m\u001b[0m\u001b[0m\n",
      "\u001b[0;32m~/git/cadc_testing/uncertainty_eval/detection_eval/filter.py\u001b[0m in \u001b[0;36m__call__\u001b[0;34m(self, gt, pred)\u001b[0m\n\u001b[1;32m     38\u001b[0m             \u001b[0mpred\u001b[0m \u001b[0;34m=\u001b[0m \u001b[0mself\u001b[0m\u001b[0;34m.\u001b[0m\u001b[0mpred_processor\u001b[0m\u001b[0;34m(\u001b[0m\u001b[0mpred\u001b[0m\u001b[0;34m)\u001b[0m\u001b[0;34m\u001b[0m\u001b[0;34m\u001b[0m\u001b[0m\n\u001b[1;32m     39\u001b[0m         return (\n\u001b[0;32m---> 40\u001b[0;31m             \u001b[0mself\u001b[0m\u001b[0;34m.\u001b[0m\u001b[0mget_ignored_gt\u001b[0m\u001b[0;34m(\u001b[0m\u001b[0mgt\u001b[0m\u001b[0;34m)\u001b[0m\u001b[0;34m,\u001b[0m\u001b[0;34m\u001b[0m\u001b[0;34m\u001b[0m\u001b[0m\n\u001b[0m\u001b[1;32m     41\u001b[0m             \u001b[0mself\u001b[0m\u001b[0;34m.\u001b[0m\u001b[0mget_discarded_gt\u001b[0m\u001b[0;34m(\u001b[0m\u001b[0mgt\u001b[0m\u001b[0;34m)\u001b[0m\u001b[0;34m,\u001b[0m\u001b[0;34m\u001b[0m\u001b[0;34m\u001b[0m\u001b[0m\n\u001b[1;32m     42\u001b[0m             \u001b[0mself\u001b[0m\u001b[0;34m.\u001b[0m\u001b[0mget_discarded_pred\u001b[0m\u001b[0;34m(\u001b[0m\u001b[0mpred\u001b[0m\u001b[0;34m)\u001b[0m\u001b[0;34m\u001b[0m\u001b[0;34m\u001b[0m\u001b[0m\n",
      "\u001b[0;32m~/git/cadc_testing/uncertainty_eval/detection_eval/filter.py\u001b[0m in \u001b[0;36mget_ignored_gt\u001b[0;34m(self, gt)\u001b[0m\n\u001b[1;32m    232\u001b[0m                 \u001b[0mignored\u001b[0m\u001b[0;34m[\u001b[0m\u001b[0midx\u001b[0m\u001b[0;34m]\u001b[0m \u001b[0;34m=\u001b[0m \u001b[0;32mTrue\u001b[0m\u001b[0;34m\u001b[0m\u001b[0;34m\u001b[0m\u001b[0m\n\u001b[1;32m    233\u001b[0m                 \u001b[0;32mcontinue\u001b[0m\u001b[0;34m\u001b[0m\u001b[0;34m\u001b[0m\u001b[0m\n\u001b[0;32m--> 234\u001b[0;31m             \u001b[0mannos\u001b[0m \u001b[0;34m=\u001b[0m \u001b[0mself\u001b[0m\u001b[0;34m.\u001b[0m\u001b[0minfos\u001b[0m\u001b[0;34m[\u001b[0m\u001b[0mframe_id\u001b[0m\u001b[0;34m]\u001b[0m\u001b[0;34m[\u001b[0m\u001b[0midx\u001b[0m\u001b[0;34m]\u001b[0m\u001b[0;34m\u001b[0m\u001b[0;34m\u001b[0m\u001b[0m\n\u001b[0m\u001b[1;32m    235\u001b[0m             \u001b[0;31m# Ignore similar classes\u001b[0m\u001b[0;34m\u001b[0m\u001b[0;34m\u001b[0m\u001b[0;34m\u001b[0m\u001b[0m\n\u001b[1;32m    236\u001b[0m             \u001b[0;32mif\u001b[0m \u001b[0mself\u001b[0m\u001b[0;34m.\u001b[0m\u001b[0mclass_name\u001b[0m \u001b[0;34m==\u001b[0m \u001b[0;34m'pedestrian'\u001b[0m \u001b[0;32mand\u001b[0m \u001b[0mname\u001b[0m \u001b[0;34m==\u001b[0m \u001b[0;34m'person_sitting'\u001b[0m\u001b[0;34m:\u001b[0m\u001b[0;34m\u001b[0m\u001b[0;34m\u001b[0m\u001b[0m\n",
      "\u001b[0;31mKeyError\u001b[0m: '000001'"
     ]
    }
   ],
   "source": [
    "tp_count = 0\n",
    "for idx in range(3769):\n",
    "    # Call `evaluate_one_sample` to get the results\n",
    "    gt_list, pred_list = DetectionEval.evaluate_all_samples(\n",
    "        [gt_dicts[idx]],\n",
    "        [pred_dicts[idx]],\n",
    "        thresholds,\n",
    "        criterion='iou_3d',\n",
    "        epsilon=0.1,\n",
    "        filta=car_filter,\n",
    "        gt_processor=gt_processor,\n",
    "        pred_processor=pred_processor,\n",
    "        callback=attach_data\n",
    "    )\n",
    "\n",
    "    # A prediction box is either a TP or FP\n",
    "    # TP is valid, localized and classified\n",
    "    tp = pred_list.valid & pred_list.localized & pred_list.classified\n",
    "    # FP is valid and either not localized or not classified correctly\n",
    "    fp = pred_list.valid & ~(pred_list.localized & pred_list.classified)\n",
    "    tp_list = pred_list[tp]\n",
    "    \n",
    "    tp_count += len(tp_list)\n",
    "    print('tp_count', tp_count)\n",
    "\n",
    "    count = 0\n",
    "    bad_idx = []\n",
    "    for j in range(len(tp_list)):\n",
    "        obj = tp_list[j]\n",
    "        pred_x = obj.data['boxes_lidar'][0]\n",
    "        gt_x = gt_list[int(obj.matched_idx)].data['gt_boxes'][0]\n",
    "        if np.abs(pred_x - gt_x) > 10.0:\n",
    "            count += 1\n",
    "            print('find object at index', j)\n",
    "            bad_idx.append(j)\n",
    "            print(obj)\n",
    "            print(obj.data['boxes_lidar'])\n",
    "            print(obj.matched_idx)\n",
    "            print(gt_list[int(obj.matched_idx)].data['gt_boxes'])\n",
    "    if count > 0:\n",
    "        print('total count', count)\n",
    "        print('bad_idx', bad_idx)\n",
    "\n",
    "print('tp count', tp_count)"
   ]
  },
  {
   "cell_type": "markdown",
   "metadata": {},
   "source": [
    "# Evaluate all frames to check for weird matches"
   ]
  },
  {
   "cell_type": "code",
   "execution_count": 31,
   "metadata": {
    "execution": {
     "iopub.execute_input": "2021-05-21T22:20:03.564705Z",
     "iopub.status.busy": "2021-05-21T22:20:03.564535Z",
     "iopub.status.idle": "2021-05-21T22:20:06.811866Z",
     "shell.execute_reply": "2021-05-21T22:20:06.811317Z",
     "shell.execute_reply.started": "2021-05-21T22:20:03.564684Z"
    }
   },
   "outputs": [
    {
     "ename": "KeyError",
     "evalue": "'000001'",
     "output_type": "error",
     "traceback": [
      "\u001b[0;31m---------------------------------------------------------------------------\u001b[0m",
      "\u001b[0;31mKeyError\u001b[0m                                  Traceback (most recent call last)",
      "\u001b[0;32m<ipython-input-31-0cd7f8a3fe9b>\u001b[0m in \u001b[0;36m<module>\u001b[0;34m\u001b[0m\n\u001b[1;32m     10\u001b[0m     \u001b[0mgt_processor\u001b[0m\u001b[0;34m=\u001b[0m\u001b[0mgt_processor\u001b[0m\u001b[0;34m,\u001b[0m\u001b[0;34m\u001b[0m\u001b[0;34m\u001b[0m\u001b[0m\n\u001b[1;32m     11\u001b[0m     \u001b[0mpred_processor\u001b[0m\u001b[0;34m=\u001b[0m\u001b[0mpred_processor\u001b[0m\u001b[0;34m,\u001b[0m\u001b[0;34m\u001b[0m\u001b[0;34m\u001b[0m\u001b[0m\n\u001b[0;32m---> 12\u001b[0;31m     \u001b[0mcallback\u001b[0m\u001b[0;34m=\u001b[0m\u001b[0mattach_data\u001b[0m\u001b[0;34m\u001b[0m\u001b[0;34m\u001b[0m\u001b[0m\n\u001b[0m\u001b[1;32m     13\u001b[0m )\n\u001b[1;32m     14\u001b[0m \u001b[0;34m\u001b[0m\u001b[0m\n",
      "\u001b[0;32m~/git/cadc_testing/uncertainty_eval/detection_eval/detection_eval.py\u001b[0m in \u001b[0;36mevaluate_all_samples\u001b[0;34m(cls, gts, preds, thresholds, criterion, epsilon, filta, ctables, gt_processor, pred_processor, pbar, callback)\u001b[0m\n\u001b[1;32m    322\u001b[0m                 \u001b[0mctable\u001b[0m\u001b[0;34m=\u001b[0m\u001b[0mctables\u001b[0m\u001b[0;34m[\u001b[0m\u001b[0msample_idx\u001b[0m\u001b[0;34m]\u001b[0m\u001b[0;34m,\u001b[0m\u001b[0;34m\u001b[0m\u001b[0;34m\u001b[0m\u001b[0m\n\u001b[1;32m    323\u001b[0m                 \u001b[0mgt_processor\u001b[0m\u001b[0;34m=\u001b[0m\u001b[0mgt_processor\u001b[0m\u001b[0;34m,\u001b[0m\u001b[0;34m\u001b[0m\u001b[0;34m\u001b[0m\u001b[0m\n\u001b[0;32m--> 324\u001b[0;31m                 \u001b[0mpred_processor\u001b[0m\u001b[0;34m=\u001b[0m\u001b[0mpred_processor\u001b[0m\u001b[0;34m\u001b[0m\u001b[0;34m\u001b[0m\u001b[0m\n\u001b[0m\u001b[1;32m    325\u001b[0m             )\n\u001b[1;32m    326\u001b[0m \u001b[0;34m\u001b[0m\u001b[0m\n",
      "\u001b[0;32m~/git/cadc_testing/uncertainty_eval/detection_eval/detection_eval.py\u001b[0m in \u001b[0;36mevaluate_one_sample\u001b[0;34m(cls, gt, pred, thresholds, criterion, epsilon, filta, ctable, gt_processor, pred_processor)\u001b[0m\n\u001b[1;32m    161\u001b[0m         \u001b[0;32massert\u001b[0m\u001b[0;34m(\u001b[0m\u001b[0mlen\u001b[0m\u001b[0;34m(\u001b[0m\u001b[0mpred_scores\u001b[0m\u001b[0;34m)\u001b[0m \u001b[0;34m==\u001b[0m \u001b[0mlen\u001b[0m\u001b[0;34m(\u001b[0m\u001b[0mpred_labels\u001b[0m\u001b[0;34m)\u001b[0m \u001b[0;34m==\u001b[0m \u001b[0mlen\u001b[0m\u001b[0;34m(\u001b[0m\u001b[0mpred_boxes\u001b[0m\u001b[0;34m)\u001b[0m\u001b[0;34m)\u001b[0m\u001b[0;34m\u001b[0m\u001b[0;34m\u001b[0m\u001b[0m\n\u001b[1;32m    162\u001b[0m \u001b[0;34m\u001b[0m\u001b[0m\n\u001b[0;32m--> 163\u001b[0;31m         \u001b[0mfiltered_masks\u001b[0m \u001b[0;34m=\u001b[0m \u001b[0mfilta\u001b[0m\u001b[0;34m(\u001b[0m\u001b[0mgt\u001b[0m\u001b[0;34m,\u001b[0m \u001b[0mpred\u001b[0m\u001b[0;34m)\u001b[0m\u001b[0;34m\u001b[0m\u001b[0;34m\u001b[0m\u001b[0m\n\u001b[0m\u001b[1;32m    164\u001b[0m         \u001b[0;32mif\u001b[0m \u001b[0mlen\u001b[0m\u001b[0;34m(\u001b[0m\u001b[0mfiltered_masks\u001b[0m\u001b[0;34m)\u001b[0m \u001b[0;34m==\u001b[0m \u001b[0;36m2\u001b[0m\u001b[0;34m:\u001b[0m\u001b[0;34m\u001b[0m\u001b[0;34m\u001b[0m\u001b[0m\n\u001b[1;32m    165\u001b[0m             \u001b[0mignored_gt\u001b[0m \u001b[0;34m=\u001b[0m \u001b[0;32mNone\u001b[0m\u001b[0;34m\u001b[0m\u001b[0;34m\u001b[0m\u001b[0m\n",
      "\u001b[0;32m~/git/cadc_testing/uncertainty_eval/detection_eval/filter.py\u001b[0m in \u001b[0;36m__call__\u001b[0;34m(self, gt, pred)\u001b[0m\n\u001b[1;32m     38\u001b[0m             \u001b[0mpred\u001b[0m \u001b[0;34m=\u001b[0m \u001b[0mself\u001b[0m\u001b[0;34m.\u001b[0m\u001b[0mpred_processor\u001b[0m\u001b[0;34m(\u001b[0m\u001b[0mpred\u001b[0m\u001b[0;34m)\u001b[0m\u001b[0;34m\u001b[0m\u001b[0;34m\u001b[0m\u001b[0m\n\u001b[1;32m     39\u001b[0m         return (\n\u001b[0;32m---> 40\u001b[0;31m             \u001b[0mself\u001b[0m\u001b[0;34m.\u001b[0m\u001b[0mget_ignored_gt\u001b[0m\u001b[0;34m(\u001b[0m\u001b[0mgt\u001b[0m\u001b[0;34m)\u001b[0m\u001b[0;34m,\u001b[0m\u001b[0;34m\u001b[0m\u001b[0;34m\u001b[0m\u001b[0m\n\u001b[0m\u001b[1;32m     41\u001b[0m             \u001b[0mself\u001b[0m\u001b[0;34m.\u001b[0m\u001b[0mget_discarded_gt\u001b[0m\u001b[0;34m(\u001b[0m\u001b[0mgt\u001b[0m\u001b[0;34m)\u001b[0m\u001b[0;34m,\u001b[0m\u001b[0;34m\u001b[0m\u001b[0;34m\u001b[0m\u001b[0m\n\u001b[1;32m     42\u001b[0m             \u001b[0mself\u001b[0m\u001b[0;34m.\u001b[0m\u001b[0mget_discarded_pred\u001b[0m\u001b[0;34m(\u001b[0m\u001b[0mpred\u001b[0m\u001b[0;34m)\u001b[0m\u001b[0;34m\u001b[0m\u001b[0;34m\u001b[0m\u001b[0m\n",
      "\u001b[0;32m~/git/cadc_testing/uncertainty_eval/detection_eval/filter.py\u001b[0m in \u001b[0;36mget_ignored_gt\u001b[0;34m(self, gt)\u001b[0m\n\u001b[1;32m    232\u001b[0m                 \u001b[0mignored\u001b[0m\u001b[0;34m[\u001b[0m\u001b[0midx\u001b[0m\u001b[0;34m]\u001b[0m \u001b[0;34m=\u001b[0m \u001b[0;32mTrue\u001b[0m\u001b[0;34m\u001b[0m\u001b[0;34m\u001b[0m\u001b[0m\n\u001b[1;32m    233\u001b[0m                 \u001b[0;32mcontinue\u001b[0m\u001b[0;34m\u001b[0m\u001b[0;34m\u001b[0m\u001b[0m\n\u001b[0;32m--> 234\u001b[0;31m             \u001b[0mannos\u001b[0m \u001b[0;34m=\u001b[0m \u001b[0mself\u001b[0m\u001b[0;34m.\u001b[0m\u001b[0minfos\u001b[0m\u001b[0;34m[\u001b[0m\u001b[0mframe_id\u001b[0m\u001b[0;34m]\u001b[0m\u001b[0;34m[\u001b[0m\u001b[0midx\u001b[0m\u001b[0;34m]\u001b[0m\u001b[0;34m\u001b[0m\u001b[0;34m\u001b[0m\u001b[0m\n\u001b[0m\u001b[1;32m    235\u001b[0m             \u001b[0;31m# Ignore similar classes\u001b[0m\u001b[0;34m\u001b[0m\u001b[0;34m\u001b[0m\u001b[0;34m\u001b[0m\u001b[0m\n\u001b[1;32m    236\u001b[0m             \u001b[0;32mif\u001b[0m \u001b[0mself\u001b[0m\u001b[0;34m.\u001b[0m\u001b[0mclass_name\u001b[0m \u001b[0;34m==\u001b[0m \u001b[0;34m'pedestrian'\u001b[0m \u001b[0;32mand\u001b[0m \u001b[0mname\u001b[0m \u001b[0;34m==\u001b[0m \u001b[0;34m'person_sitting'\u001b[0m\u001b[0;34m:\u001b[0m\u001b[0;34m\u001b[0m\u001b[0;34m\u001b[0m\u001b[0m\n",
      "\u001b[0;31mKeyError\u001b[0m: '000001'"
     ]
    }
   ],
   "source": [
    "np.set_printoptions(suppress=True)\n",
    "\n",
    "gt_list, pred_list = DetectionEval.evaluate_all_samples(\n",
    "    gt_dicts,\n",
    "    pred_dicts,\n",
    "    thresholds,\n",
    "    criterion='iou_3d',\n",
    "    epsilon=0.1,\n",
    "    filta=car_filter,\n",
    "    gt_processor=gt_processor,\n",
    "    pred_processor=pred_processor,\n",
    "    callback=attach_data\n",
    ")\n",
    "\n",
    "# A prediction box is either a TP or FP\n",
    "# TP is valid, localized and classified\n",
    "tp = pred_list.valid & pred_list.localized & pred_list.classified\n",
    "# FP is valid and either not localized or not classified correctly\n",
    "fp = pred_list.valid & ~(pred_list.localized & pred_list.classified)\n",
    "tp_list = pred_list[tp]\n",
    "\n",
    "print(len(tp_list))\n",
    "\n",
    "count = 0\n",
    "bad_idx = []\n",
    "for j in range(len(tp_list)):\n",
    "    obj = tp_list[j]\n",
    "    pred_x = obj.data['boxes_lidar'][0]\n",
    "    gt_x = gt_list[int(obj.matched_idx)].data['gt_boxes'][0]\n",
    "    if np.abs(pred_x - gt_x) > 10.0:\n",
    "        count += 1\n",
    "        print('find object at index', j)\n",
    "        bad_idx.append(j)\n",
    "        print('obj', obj)\n",
    "        print('obj.valid', obj.valid)\n",
    "        print('obj.data boxes_lidar', obj.data['boxes_lidar'])\n",
    "        print('matched idx', obj.matched_idx)\n",
    "        print('gt', gt_list[int(obj.matched_idx)])\n",
    "        print('gt box', gt_list[int(obj.matched_idx)].data['gt_boxes'])\n",
    "if count > 0:\n",
    "    print('total count', count)\n",
    "    print('bad_idx', bad_idx)"
   ]
  },
  {
   "cell_type": "code",
   "execution_count": 33,
   "metadata": {},
   "outputs": [
    {
     "ename": "KeyError",
     "evalue": "'004040'",
     "output_type": "error",
     "traceback": [
      "\u001b[0;31m---------------------------------------------------------------------------\u001b[0m",
      "\u001b[0;31mKeyError\u001b[0m                                  Traceback (most recent call last)",
      "\u001b[0;32m<ipython-input-33-c822d39bd5bc>\u001b[0m in \u001b[0;36m<module>\u001b[0;34m\u001b[0m\n\u001b[1;32m     10\u001b[0m     \u001b[0mgt_processor\u001b[0m\u001b[0;34m=\u001b[0m\u001b[0mgt_processor\u001b[0m\u001b[0;34m,\u001b[0m\u001b[0;34m\u001b[0m\u001b[0;34m\u001b[0m\u001b[0m\n\u001b[1;32m     11\u001b[0m     \u001b[0mpred_processor\u001b[0m\u001b[0;34m=\u001b[0m\u001b[0mpred_processor\u001b[0m\u001b[0;34m,\u001b[0m\u001b[0;34m\u001b[0m\u001b[0;34m\u001b[0m\u001b[0m\n\u001b[0;32m---> 12\u001b[0;31m     \u001b[0mcallback\u001b[0m\u001b[0;34m=\u001b[0m\u001b[0mattach_data\u001b[0m\u001b[0;34m\u001b[0m\u001b[0;34m\u001b[0m\u001b[0m\n\u001b[0m\u001b[1;32m     13\u001b[0m )\n\u001b[1;32m     14\u001b[0m \u001b[0;34m\u001b[0m\u001b[0m\n",
      "\u001b[0;32m~/git/cadc_testing/uncertainty_eval/detection_eval/detection_eval.py\u001b[0m in \u001b[0;36mevaluate_all_samples\u001b[0;34m(cls, gts, preds, thresholds, criterion, epsilon, filta, ctables, gt_processor, pred_processor, pbar, callback)\u001b[0m\n\u001b[1;32m    322\u001b[0m                 \u001b[0mctable\u001b[0m\u001b[0;34m=\u001b[0m\u001b[0mctables\u001b[0m\u001b[0;34m[\u001b[0m\u001b[0msample_idx\u001b[0m\u001b[0;34m]\u001b[0m\u001b[0;34m,\u001b[0m\u001b[0;34m\u001b[0m\u001b[0;34m\u001b[0m\u001b[0m\n\u001b[1;32m    323\u001b[0m                 \u001b[0mgt_processor\u001b[0m\u001b[0;34m=\u001b[0m\u001b[0mgt_processor\u001b[0m\u001b[0;34m,\u001b[0m\u001b[0;34m\u001b[0m\u001b[0;34m\u001b[0m\u001b[0m\n\u001b[0;32m--> 324\u001b[0;31m                 \u001b[0mpred_processor\u001b[0m\u001b[0;34m=\u001b[0m\u001b[0mpred_processor\u001b[0m\u001b[0;34m\u001b[0m\u001b[0;34m\u001b[0m\u001b[0m\n\u001b[0m\u001b[1;32m    325\u001b[0m             )\n\u001b[1;32m    326\u001b[0m \u001b[0;34m\u001b[0m\u001b[0m\n",
      "\u001b[0;32m~/git/cadc_testing/uncertainty_eval/detection_eval/detection_eval.py\u001b[0m in \u001b[0;36mevaluate_one_sample\u001b[0;34m(cls, gt, pred, thresholds, criterion, epsilon, filta, ctable, gt_processor, pred_processor)\u001b[0m\n\u001b[1;32m    161\u001b[0m         \u001b[0;32massert\u001b[0m\u001b[0;34m(\u001b[0m\u001b[0mlen\u001b[0m\u001b[0;34m(\u001b[0m\u001b[0mpred_scores\u001b[0m\u001b[0;34m)\u001b[0m \u001b[0;34m==\u001b[0m \u001b[0mlen\u001b[0m\u001b[0;34m(\u001b[0m\u001b[0mpred_labels\u001b[0m\u001b[0;34m)\u001b[0m \u001b[0;34m==\u001b[0m \u001b[0mlen\u001b[0m\u001b[0;34m(\u001b[0m\u001b[0mpred_boxes\u001b[0m\u001b[0;34m)\u001b[0m\u001b[0;34m)\u001b[0m\u001b[0;34m\u001b[0m\u001b[0;34m\u001b[0m\u001b[0m\n\u001b[1;32m    162\u001b[0m \u001b[0;34m\u001b[0m\u001b[0m\n\u001b[0;32m--> 163\u001b[0;31m         \u001b[0mfiltered_masks\u001b[0m \u001b[0;34m=\u001b[0m \u001b[0mfilta\u001b[0m\u001b[0;34m(\u001b[0m\u001b[0mgt\u001b[0m\u001b[0;34m,\u001b[0m \u001b[0mpred\u001b[0m\u001b[0;34m)\u001b[0m\u001b[0;34m\u001b[0m\u001b[0;34m\u001b[0m\u001b[0m\n\u001b[0m\u001b[1;32m    164\u001b[0m         \u001b[0;32mif\u001b[0m \u001b[0mlen\u001b[0m\u001b[0;34m(\u001b[0m\u001b[0mfiltered_masks\u001b[0m\u001b[0;34m)\u001b[0m \u001b[0;34m==\u001b[0m \u001b[0;36m2\u001b[0m\u001b[0;34m:\u001b[0m\u001b[0;34m\u001b[0m\u001b[0;34m\u001b[0m\u001b[0m\n\u001b[1;32m    165\u001b[0m             \u001b[0mignored_gt\u001b[0m \u001b[0;34m=\u001b[0m \u001b[0;32mNone\u001b[0m\u001b[0;34m\u001b[0m\u001b[0;34m\u001b[0m\u001b[0m\n",
      "\u001b[0;32m~/git/cadc_testing/uncertainty_eval/detection_eval/filter.py\u001b[0m in \u001b[0;36m__call__\u001b[0;34m(self, gt, pred)\u001b[0m\n\u001b[1;32m     38\u001b[0m             \u001b[0mpred\u001b[0m \u001b[0;34m=\u001b[0m \u001b[0mself\u001b[0m\u001b[0;34m.\u001b[0m\u001b[0mpred_processor\u001b[0m\u001b[0;34m(\u001b[0m\u001b[0mpred\u001b[0m\u001b[0;34m)\u001b[0m\u001b[0;34m\u001b[0m\u001b[0;34m\u001b[0m\u001b[0m\n\u001b[1;32m     39\u001b[0m         return (\n\u001b[0;32m---> 40\u001b[0;31m             \u001b[0mself\u001b[0m\u001b[0;34m.\u001b[0m\u001b[0mget_ignored_gt\u001b[0m\u001b[0;34m(\u001b[0m\u001b[0mgt\u001b[0m\u001b[0;34m)\u001b[0m\u001b[0;34m,\u001b[0m\u001b[0;34m\u001b[0m\u001b[0;34m\u001b[0m\u001b[0m\n\u001b[0m\u001b[1;32m     41\u001b[0m             \u001b[0mself\u001b[0m\u001b[0;34m.\u001b[0m\u001b[0mget_discarded_gt\u001b[0m\u001b[0;34m(\u001b[0m\u001b[0mgt\u001b[0m\u001b[0;34m)\u001b[0m\u001b[0;34m,\u001b[0m\u001b[0;34m\u001b[0m\u001b[0;34m\u001b[0m\u001b[0m\n\u001b[1;32m     42\u001b[0m             \u001b[0mself\u001b[0m\u001b[0;34m.\u001b[0m\u001b[0mget_discarded_pred\u001b[0m\u001b[0;34m(\u001b[0m\u001b[0mpred\u001b[0m\u001b[0;34m)\u001b[0m\u001b[0;34m\u001b[0m\u001b[0;34m\u001b[0m\u001b[0m\n",
      "\u001b[0;32m~/git/cadc_testing/uncertainty_eval/detection_eval/filter.py\u001b[0m in \u001b[0;36mget_ignored_gt\u001b[0;34m(self, gt)\u001b[0m\n\u001b[1;32m    232\u001b[0m                 \u001b[0mignored\u001b[0m\u001b[0;34m[\u001b[0m\u001b[0midx\u001b[0m\u001b[0;34m]\u001b[0m \u001b[0;34m=\u001b[0m \u001b[0;32mTrue\u001b[0m\u001b[0;34m\u001b[0m\u001b[0;34m\u001b[0m\u001b[0m\n\u001b[1;32m    233\u001b[0m                 \u001b[0;32mcontinue\u001b[0m\u001b[0;34m\u001b[0m\u001b[0;34m\u001b[0m\u001b[0m\n\u001b[0;32m--> 234\u001b[0;31m             \u001b[0mannos\u001b[0m \u001b[0;34m=\u001b[0m \u001b[0mself\u001b[0m\u001b[0;34m.\u001b[0m\u001b[0minfos\u001b[0m\u001b[0;34m[\u001b[0m\u001b[0mframe_id\u001b[0m\u001b[0;34m]\u001b[0m\u001b[0;34m[\u001b[0m\u001b[0midx\u001b[0m\u001b[0;34m]\u001b[0m\u001b[0;34m\u001b[0m\u001b[0;34m\u001b[0m\u001b[0m\n\u001b[0m\u001b[1;32m    235\u001b[0m             \u001b[0;31m# Ignore similar classes\u001b[0m\u001b[0;34m\u001b[0m\u001b[0;34m\u001b[0m\u001b[0;34m\u001b[0m\u001b[0m\n\u001b[1;32m    236\u001b[0m             \u001b[0;32mif\u001b[0m \u001b[0mself\u001b[0m\u001b[0;34m.\u001b[0m\u001b[0mclass_name\u001b[0m \u001b[0;34m==\u001b[0m \u001b[0;34m'pedestrian'\u001b[0m \u001b[0;32mand\u001b[0m \u001b[0mname\u001b[0m \u001b[0;34m==\u001b[0m \u001b[0;34m'person_sitting'\u001b[0m\u001b[0;34m:\u001b[0m\u001b[0;34m\u001b[0m\u001b[0;34m\u001b[0m\u001b[0m\n",
      "\u001b[0;31mKeyError\u001b[0m: '004040'"
     ]
    }
   ],
   "source": [
    "# print(gt_dicts[1994:1997])\n",
    "# print(pred_dicts[1994:1997])\n",
    "gt_list, pred_list = DetectionEval.evaluate_all_samples(\n",
    "    gt_dicts[1994:1997],\n",
    "    pred_dicts[1994:1997],\n",
    "    thresholds,\n",
    "    criterion='iou_3d',\n",
    "    epsilon=0.1,\n",
    "    filta=car_filter,\n",
    "    gt_processor=gt_processor,\n",
    "    pred_processor=pred_processor,\n",
    "    callback=attach_data\n",
    ")\n",
    "\n",
    "# gt_list, pred_list = DetectionEval.evaluate_all_samples(\n",
    "#     gt_dicts,\n",
    "#     pred_dicts,\n",
    "#     thresholds,\n",
    "#     criterion='iou_3d',\n",
    "#     epsilon=0.1,\n",
    "#     filta=car_filter,\n",
    "#     gt_processor=gt_processor,\n",
    "#     pred_processor=pred_processor,\n",
    "#     callback=attach_data\n",
    "# )\n",
    "\n",
    "# A prediction box is either a TP or FP\n",
    "# TP is valid, localized and classified\n",
    "tp = pred_list.valid & pred_list.localized & pred_list.classified\n",
    "# FP is valid and either not localized or not classified correctly\n",
    "fp = pred_list.valid & ~(pred_list.localized & pred_list.classified)\n",
    "tp_list = pred_list[tp]\n",
    "\n",
    "print(len(tp_list))\n",
    "\n",
    "count = 0\n",
    "bad_idx = []\n",
    "for j in range(len(tp_list)):\n",
    "    obj = tp_list[j]\n",
    "    pred_x = obj.data['boxes_lidar'][0]\n",
    "    gt_x = gt_list[int(obj.matched_idx)].data['gt_boxes'][0]\n",
    "    if np.abs(pred_x - gt_x) > 10.0:\n",
    "        count += 1\n",
    "        print('find object at index', j)\n",
    "        bad_idx.append(j)\n",
    "        print('obj', obj)\n",
    "        print('obj.valid', obj.valid)\n",
    "        print('obj.data boxes_lidar', obj.data['boxes_lidar'])\n",
    "        print('matched idx', obj.matched_idx)\n",
    "        print('gt', gt_list[int(obj.matched_idx)])\n",
    "        print('gt box', gt_list[int(obj.matched_idx)].data['gt_boxes'])\n",
    "if count > 0:\n",
    "    print('total count', count)\n",
    "    print('bad_idx', bad_idx)"
   ]
  },
  {
   "cell_type": "code",
   "execution_count": null,
   "metadata": {},
   "outputs": [],
   "source": []
  }
 ],
 "metadata": {
  "kernelspec": {
   "display_name": "Python 3",
   "language": "python",
   "name": "python3"
  },
  "language_info": {
   "codemirror_mode": {
    "name": "ipython",
    "version": 3
   },
   "file_extension": ".py",
   "mimetype": "text/x-python",
   "name": "python",
   "nbconvert_exporter": "python",
   "pygments_lexer": "ipython3",
   "version": "3.7.4"
  }
 },
 "nbformat": 4,
 "nbformat_minor": 4
}
